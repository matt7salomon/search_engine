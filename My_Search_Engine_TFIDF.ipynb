{
 "cells": [
  {
   "cell_type": "code",
   "execution_count": 2,
   "id": "f2384d13-941a-4c49-b903-68c5cf55ac15",
   "metadata": {
    "tags": []
   },
   "outputs": [],
   "source": [
    "#clone the git repo that contains the data and additional information about the dataset\n",
    "!git clone https://github.com/wayfair/WANDS.git"
   ]
  },
  {
   "cell_type": "code",
   "execution_count": 14,
   "id": "cf497dfc",
   "metadata": {},
   "outputs": [],
   "source": [
    "import pandas as pd\n",
    "import numpy as np\n",
    "from sklearn.feature_extraction.text import TfidfVectorizer\n",
    "from sklearn.metrics.pairwise import cosine_similarity\n",
    "import numpy as np\n",
    "from sklearn.feature_extraction import text\n",
    "from sklearn.feature_extraction.text import TfidfVectorizer\n",
    "\n",
    "\n",
    "class search_engine_eval():\n",
    "    def __init__(self,query_df,label_df,product_df):\n",
    "        self.my_stop_words = list(text.ENGLISH_STOP_WORDS.union([\"book\"]))\n",
    "        self.query_df = query_df\n",
    "        self.label_df = label_df\n",
    "        self.product_df = product_df\n",
    "        self.grouped_label_df = label_df.groupby('query_id')\n",
    "        self.vectorizer, self.tfidf_matrix = self.calculate_tfidf(self.product_df)\n",
    "    #define functions for product search using Tf-IDF\n",
    "    def calculate_tfidf(self, dataframe):\n",
    "        \"\"\"\n",
    "        Calculate the TF-IDF for combined product name and description.\n",
    "\n",
    "        Parameters:\n",
    "        dataframe (pd.DataFrame): DataFrame with product_id, and other product information.\n",
    "\n",
    "        Returns:\n",
    "        TfidfVectorizer, csr_matrix: TF-IDF vectorizer and TF-IDF matrix.\n",
    "        \"\"\"\n",
    "        # Combine product name and description to vectorize\n",
    "        # NOTE: Please feel free to use any combination of columns available, some columns may contain NULL values\n",
    "        combined_text = dataframe['product_name'] + ' ' + dataframe['product_description'] + ' ' + dataframe['product_class']+' ' + dataframe['category hierarchy']\n",
    "        vectorizer = TfidfVectorizer(ngram_range=(1,1),use_idf=False, norm=None, stop_words='english',lowercase=True)\n",
    "        # convert combined_text to list of unicode strings\n",
    "        tfidf_matrix = vectorizer.fit_transform(combined_text.values.astype('U'))\n",
    "        return vectorizer, tfidf_matrix\n",
    "    \n",
    "    def calculate_vectors(self, dataframe):\n",
    "        \n",
    "        pass\n",
    "    def get_top_products(self, vectorizer, tfidf_matrix, query, top_n=20):\n",
    "        \n",
    "        \"\"\"\n",
    "        Get top N products for a given query based on TF-IDF similarity.\n",
    "\n",
    "        Parameters:\n",
    "        vectorizer (TfidfVectorizer): Trained TF-IDF vectorizer.\n",
    "        tfidf_matrix (csr_matrix): TF-IDF matrix for the products.\n",
    "        query (str): Search query.\n",
    "        top_n (int): Number of top products to return.\n",
    "\n",
    "        Returns:\n",
    "        list: List of top N product IDs.\n",
    "        \"\"\"\n",
    "        query_vector = self.vectorizer.transform([query])\n",
    "        cosine_similarities = cosine_similarity(query_vector, self.tfidf_matrix).flatten()\n",
    "        top_product_indices = cosine_similarities.argsort()[-top_n:][::-1]\n",
    "        temp = pd.DataFrame(data= {'product_id':top_product_indices}).merge(self.product_df, how = 'left', on ='product_id')\n",
    "        #temp = temp[temp['review_count']>15]\n",
    "        temp.sort_values('review_count',ascending=False,inplace=True)\n",
    "        #print(temp['product_id'].values)\n",
    "        return top_product_indices\n",
    "        #return temp['product_id'].values\n",
    "        \n",
    "    #define functions for evaluating retrieval performance\n",
    "    def map_at_k(self, true_ids, predicted_ids, k=10):\n",
    "        \"\"\"\n",
    "        Calculate the Mean Average Precision at K (MAP@K).\n",
    "\n",
    "        Parameters:\n",
    "        true_ids (list): List of relevant product IDs.\n",
    "        predicted_ids (list): List of predicted product IDs.\n",
    "        k (int): Number of top elements to consider.\n",
    "                 NOTE: IF you wish to change top k, please provide a justification for choosing the new value\n",
    "\n",
    "        Returns:\n",
    "        float: MAP@K score.\n",
    "        \"\"\"\n",
    "        #print(predicted_ids)\n",
    "        #if either list is empty, return 0\n",
    "        if not len(true_ids) or not len(predicted_ids):\n",
    "            return 0.0\n",
    "\n",
    "        score = 0.0\n",
    "        num_hits = 0.0\n",
    "\n",
    "        for i, p_id in enumerate(predicted_ids[:k]):\n",
    "            if p_id in true_ids and p_id not in predicted_ids[:i]:\n",
    "                num_hits += 1.0\n",
    "                score += num_hits / (i + 1.0)\n",
    "\n",
    "        return score / min(len(true_ids), k)\n",
    "    \n",
    "    #implementing a function to retrieve exact match product IDs for a query_id\n",
    "    def get_exact_matches_for_query(self, query_id):\n",
    "        query_group = self.grouped_label_df.get_group(query_id)\n",
    "        exact_matches = query_group.loc[(query_group['label'] == 'Exact')]['product_id'].values\n",
    "        partial_matches = query_group.loc[ (query_group['label'] == 'Partial')]['product_id'].values\n",
    "\n",
    "\n",
    "        # MATT: Output now includes both exact matches and partial matches.\n",
    "        output = np.append(exact_matches, partial_matches)\n",
    "        return output\n",
    "    \n",
    "    def get_top_product_ids_for_query(self, query):\n",
    "        top_product_indices = self.get_top_products(vectorizer, tfidf_matrix, query, top_n=10)\n",
    "        top_product_ids = self.product_df.iloc[top_product_indices]['product_id'].tolist()\n",
    "        return top_product_ids\n"
   ]
  },
  {
   "cell_type": "code",
   "execution_count": 15,
   "id": "d1fcc5a4",
   "metadata": {},
   "outputs": [
    {
     "name": "stdout",
     "output_type": "stream",
     "text": [
      "Top products for 'armchair':\n",
      "42698 donham armchair\n",
      "31564 biloxi 34.75 '' wide armchair\n",
      "42697 donham 25 '' wide armchair\n",
      "12756 24.41 '' wide tufted polyester armchair\n",
      "41306 hartsell 33 '' wide armchair\n",
      "11642 baltes 29.5 '' wide barrel chair\n",
      "23907 faizah 27.6 '' wide tufted polyester armchair\n",
      "42802 donham polyester lounge chair\n",
      "25844 jill 29.5 '' wide armchair\n",
      "1140 charnley 47 '' wide chenille armchair\n"
     ]
    }
   ],
   "source": [
    "# get search queries\n",
    "query_df = pd.read_csv(\"WANDS/dataset/query.csv\", sep='\\t')\n",
    "# get manually labeled groundtruth lables\n",
    "label_df = pd.read_csv(\"WANDS/dataset/label.csv\", sep='\\t')\n",
    "# get products\n",
    "product_df = pd.read_csv(\"WANDS/dataset/product.csv\", sep='\\t')\n",
    "#group the labels for each query to use when identifying exact matches\n",
    "\n",
    "\n",
    "search = search_engine_eval(query_df,label_df,product_df)\n",
    "# Calculate TF-IDF\n",
    "\n",
    "#vectorizer = search.calculate_vectors(product_df)\n",
    "\n",
    "#define the test query\n",
    "query = \"armchair\"\n",
    "\n",
    "#obtain top product IDs\n",
    "top_product_ids = search.get_top_product_ids_for_query(query)\n",
    "\n",
    "print(f\"Top products for '{query}':\")\n",
    "for product_id in top_product_ids:\n",
    "    product = product_df.loc[product_df['product_id'] == product_id]\n",
    "    print(product_id, product['product_name'].values[0])\n",
    "    \n",
    "    \n",
    "\n",
    "\n",
    "#applying the function to obtain top product IDs and adding top K product IDs to the dataframe \n",
    "query_df['top_product_ids'] = query_df['query'].apply(search.get_top_product_ids_for_query)\n",
    "\n",
    "#adding the list of exact match product_IDs from labels_df\n",
    "query_df['relevant_ids'] = query_df['query_id'].apply(search.get_exact_matches_for_query)\n",
    "\n",
    "#now assign the map@k score\n",
    "query_df['map@k'] = query_df.apply(lambda x: search.map_at_k(x['relevant_ids'], x['top_product_ids'], k=10), axis=1)"
   ]
  },
  {
   "cell_type": "code",
   "execution_count": 16,
   "id": "86a646cd",
   "metadata": {},
   "outputs": [
    {
     "name": "stderr",
     "output_type": "stream",
     "text": [
      "/var/folders/45/07b7h57d7d1gx4px8xjqcx640000gn/T/ipykernel_95362/150360556.py:7: FutureWarning: The default value of regex will change from True to False in a future version.\n",
      "  product_df[col] = product_df[col].str.replace('[^a-zA-Z0-9]', ' ')\n"
     ]
    }
   ],
   "source": [
    "from pandas.api.types import is_string_dtype\n",
    "from pandas.api.types import is_numeric_dtype\n",
    "\n",
    "#is_string_dtype(product_df['product_name'])\n",
    "for col in product_df.columns:\n",
    "    if is_string_dtype(product_df[col]):\n",
    "        product_df[col] = product_df[col].str.replace('[^a-zA-Z0-9]', ' ')"
   ]
  },
  {
   "cell_type": "code",
   "execution_count": 17,
   "id": "dad2a2ba",
   "metadata": {},
   "outputs": [
    {
     "data": {
      "text/plain": [
       "0.6357619047619048"
      ]
     },
     "execution_count": 17,
     "metadata": {},
     "output_type": "execute_result"
    }
   ],
   "source": [
    "# calculate the MAP across the entire query set\n",
    "query_df.loc[:, 'map@k'].mean()"
   ]
  },
  {
   "cell_type": "code",
   "execution_count": null,
   "id": "5a21af4c",
   "metadata": {},
   "outputs": [],
   "source": []
  }
 ],
 "metadata": {
  "kernelspec": {
   "display_name": "Python 3.10 (tensorflow)",
   "language": "python",
   "name": "tensorflow"
  },
  "language_info": {
   "codemirror_mode": {
    "name": "ipython",
    "version": 3
   },
   "file_extension": ".py",
   "mimetype": "text/x-python",
   "name": "python",
   "nbconvert_exporter": "python",
   "pygments_lexer": "ipython3",
   "version": "3.10.9"
  }
 },
 "nbformat": 4,
 "nbformat_minor": 5
}
